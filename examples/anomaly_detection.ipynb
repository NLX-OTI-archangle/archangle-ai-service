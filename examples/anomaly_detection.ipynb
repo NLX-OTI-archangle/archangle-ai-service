{
  "nbformat": 4,
  "nbformat_minor": 0,
  "metadata": {
    "colab": {
      "provenance": [],
      "collapsed_sections": [
        "oT3CFV1muLxq",
        "oN5KCS_CvUag"
      ]
    },
    "kernelspec": {
      "name": "python3",
      "display_name": "Python 3"
    },
    "language_info": {
      "name": "python"
    }
  },
  "cells": [
    {
      "cell_type": "code",
      "execution_count": null,
      "metadata": {
        "colab": {
          "base_uri": "https://localhost:8080/"
        },
        "id": "LzBek-NKluci",
        "outputId": "3c6114c1-cff4-40b8-80d4-b78bf91e3025"
      },
      "outputs": [
        {
          "output_type": "stream",
          "name": "stdout",
          "text": [
            "Drive already mounted at /content/drive; to attempt to forcibly remount, call drive.mount(\"/content/drive\", force_remount=True).\n"
          ]
        }
      ],
      "source": [
        "from google.colab import drive\n",
        "drive.mount('/content/drive')"
      ]
    },
    {
      "cell_type": "markdown",
      "source": [
        "# Random Forest Anomaly Detection"
      ],
      "metadata": {
        "id": "GtSZUvpfo6iZ"
      }
    },
    {
      "cell_type": "code",
      "source": [
        "import pandas as pd\n",
        "import numpy as np"
      ],
      "metadata": {
        "id": "AZxvq7hWpWB8"
      },
      "execution_count": null,
      "outputs": []
    },
    {
      "cell_type": "code",
      "source": [
        "data_path = '/content/drive/MyDrive/archangle-data/synthetic_mobile_money_transaction_dataset.csv'\n",
        "df = pd.read_csv(data_path)"
      ],
      "metadata": {
        "id": "eQSws_yoo9S_"
      },
      "execution_count": null,
      "outputs": []
    },
    {
      "cell_type": "code",
      "source": [
        "df.info()"
      ],
      "metadata": {
        "colab": {
          "base_uri": "https://localhost:8080/"
        },
        "id": "XjKX7l4UpdLV",
        "outputId": "db630c8f-a26a-4b80-e17e-a68af4bf8504"
      },
      "execution_count": null,
      "outputs": [
        {
          "output_type": "stream",
          "name": "stdout",
          "text": [
            "<class 'pandas.core.frame.DataFrame'>\n",
            "RangeIndex: 1720181 entries, 0 to 1720180\n",
            "Data columns (total 10 columns):\n",
            " #   Column           Dtype  \n",
            "---  ------           -----  \n",
            " 0   step             int64  \n",
            " 1   transactionType  object \n",
            " 2   amount           float64\n",
            " 3   initiator        int64  \n",
            " 4   oldBalInitiator  float64\n",
            " 5   newBalInitiator  float64\n",
            " 6   recipient        object \n",
            " 7   oldBalRecipient  float64\n",
            " 8   newBalRecipient  float64\n",
            " 9   isFraud          int64  \n",
            "dtypes: float64(5), int64(3), object(2)\n",
            "memory usage: 131.2+ MB\n"
          ]
        }
      ]
    },
    {
      "cell_type": "code",
      "source": [
        "df['isFraud'].value_counts()"
      ],
      "metadata": {
        "colab": {
          "base_uri": "https://localhost:8080/",
          "height": 178
        },
        "id": "l3ngNqhVphYj",
        "outputId": "287fc041-f4e9-47f1-9be5-83d93c15292d"
      },
      "execution_count": null,
      "outputs": [
        {
          "output_type": "execute_result",
          "data": {
            "text/plain": [
              "isFraud\n",
              "0    1544663\n",
              "1     175518\n",
              "Name: count, dtype: int64"
            ],
            "text/html": [
              "<div>\n",
              "<style scoped>\n",
              "    .dataframe tbody tr th:only-of-type {\n",
              "        vertical-align: middle;\n",
              "    }\n",
              "\n",
              "    .dataframe tbody tr th {\n",
              "        vertical-align: top;\n",
              "    }\n",
              "\n",
              "    .dataframe thead th {\n",
              "        text-align: right;\n",
              "    }\n",
              "</style>\n",
              "<table border=\"1\" class=\"dataframe\">\n",
              "  <thead>\n",
              "    <tr style=\"text-align: right;\">\n",
              "      <th></th>\n",
              "      <th>count</th>\n",
              "    </tr>\n",
              "    <tr>\n",
              "      <th>isFraud</th>\n",
              "      <th></th>\n",
              "    </tr>\n",
              "  </thead>\n",
              "  <tbody>\n",
              "    <tr>\n",
              "      <th>0</th>\n",
              "      <td>1544663</td>\n",
              "    </tr>\n",
              "    <tr>\n",
              "      <th>1</th>\n",
              "      <td>175518</td>\n",
              "    </tr>\n",
              "  </tbody>\n",
              "</table>\n",
              "</div><br><label><b>dtype:</b> int64</label>"
            ]
          },
          "metadata": {},
          "execution_count": 26
        }
      ]
    },
    {
      "cell_type": "code",
      "source": [
        "# percetnateg of isFraud and notIsFraud\n",
        "total = 175518 + 1544663\n",
        "print(175518/total * 100, \"%\")\n",
        "print(1544663/total * 100, \"%\")\n",
        "\n",
        "# unbalanced data is fraud and not is fraud"
      ],
      "metadata": {
        "colab": {
          "base_uri": "https://localhost:8080/"
        },
        "id": "khvGrJYkplnu",
        "outputId": "42638434-25e8-46f5-a47c-9fbb0f893c59"
      },
      "execution_count": null,
      "outputs": [
        {
          "output_type": "stream",
          "name": "stdout",
          "text": [
            "10.203461147402512 %\n",
            "89.79653885259748 %\n"
          ]
        }
      ]
    },
    {
      "cell_type": "markdown",
      "source": [
        "## unbalanced data handling"
      ],
      "metadata": {
        "id": "7U7DRdm-q0OK"
      }
    },
    {
      "cell_type": "code",
      "source": [
        "# 50% is fraud and 50% not is fraud\n",
        "\n",
        "fraud_df = df[df['isFraud'] == 1]\n",
        "notfraud_df = df[df['isFraud'] == 0]\n",
        "\n",
        "notfraud_sampled = notfraud_df.sample(n=len(fraud_df), random_state=42)\n",
        "\n",
        "balanced_df = pd.concat([fraud_df, notfraud_sampled])"
      ],
      "metadata": {
        "id": "CXKeTflmqMfK"
      },
      "execution_count": null,
      "outputs": []
    },
    {
      "cell_type": "code",
      "source": [
        "balanced_df['isFraud'].value_counts()"
      ],
      "metadata": {
        "colab": {
          "base_uri": "https://localhost:8080/",
          "height": 178
        },
        "id": "wIT64cUbqjfr",
        "outputId": "bfe6fbe6-5106-475e-f1aa-9bd8c709b1ee"
      },
      "execution_count": null,
      "outputs": [
        {
          "output_type": "execute_result",
          "data": {
            "text/plain": [
              "isFraud\n",
              "1    175518\n",
              "0    175518\n",
              "Name: count, dtype: int64"
            ],
            "text/html": [
              "<div>\n",
              "<style scoped>\n",
              "    .dataframe tbody tr th:only-of-type {\n",
              "        vertical-align: middle;\n",
              "    }\n",
              "\n",
              "    .dataframe tbody tr th {\n",
              "        vertical-align: top;\n",
              "    }\n",
              "\n",
              "    .dataframe thead th {\n",
              "        text-align: right;\n",
              "    }\n",
              "</style>\n",
              "<table border=\"1\" class=\"dataframe\">\n",
              "  <thead>\n",
              "    <tr style=\"text-align: right;\">\n",
              "      <th></th>\n",
              "      <th>count</th>\n",
              "    </tr>\n",
              "    <tr>\n",
              "      <th>isFraud</th>\n",
              "      <th></th>\n",
              "    </tr>\n",
              "  </thead>\n",
              "  <tbody>\n",
              "    <tr>\n",
              "      <th>1</th>\n",
              "      <td>175518</td>\n",
              "    </tr>\n",
              "    <tr>\n",
              "      <th>0</th>\n",
              "      <td>175518</td>\n",
              "    </tr>\n",
              "  </tbody>\n",
              "</table>\n",
              "</div><br><label><b>dtype:</b> int64</label>"
            ]
          },
          "metadata": {},
          "execution_count": 29
        }
      ]
    },
    {
      "cell_type": "code",
      "source": [
        "df['transactionType'].value_counts()"
      ],
      "metadata": {
        "colab": {
          "base_uri": "https://localhost:8080/",
          "height": 272
        },
        "id": "P_5Bfh27qnFB",
        "outputId": "3f5739df-b708-4d69-8051-ace96019af0a"
      },
      "execution_count": null,
      "outputs": [
        {
          "output_type": "execute_result",
          "data": {
            "text/plain": [
              "transactionType\n",
              "PAYMENT       667245\n",
              "TRANSFER      569328\n",
              "DEPOSIT       384431\n",
              "WITHDRAWAL     93785\n",
              "DEBIT           5392\n",
              "Name: count, dtype: int64"
            ],
            "text/html": [
              "<div>\n",
              "<style scoped>\n",
              "    .dataframe tbody tr th:only-of-type {\n",
              "        vertical-align: middle;\n",
              "    }\n",
              "\n",
              "    .dataframe tbody tr th {\n",
              "        vertical-align: top;\n",
              "    }\n",
              "\n",
              "    .dataframe thead th {\n",
              "        text-align: right;\n",
              "    }\n",
              "</style>\n",
              "<table border=\"1\" class=\"dataframe\">\n",
              "  <thead>\n",
              "    <tr style=\"text-align: right;\">\n",
              "      <th></th>\n",
              "      <th>count</th>\n",
              "    </tr>\n",
              "    <tr>\n",
              "      <th>transactionType</th>\n",
              "      <th></th>\n",
              "    </tr>\n",
              "  </thead>\n",
              "  <tbody>\n",
              "    <tr>\n",
              "      <th>PAYMENT</th>\n",
              "      <td>667245</td>\n",
              "    </tr>\n",
              "    <tr>\n",
              "      <th>TRANSFER</th>\n",
              "      <td>569328</td>\n",
              "    </tr>\n",
              "    <tr>\n",
              "      <th>DEPOSIT</th>\n",
              "      <td>384431</td>\n",
              "    </tr>\n",
              "    <tr>\n",
              "      <th>WITHDRAWAL</th>\n",
              "      <td>93785</td>\n",
              "    </tr>\n",
              "    <tr>\n",
              "      <th>DEBIT</th>\n",
              "      <td>5392</td>\n",
              "    </tr>\n",
              "  </tbody>\n",
              "</table>\n",
              "</div><br><label><b>dtype:</b> int64</label>"
            ]
          },
          "metadata": {},
          "execution_count": 30
        }
      ]
    },
    {
      "cell_type": "code",
      "source": [
        "df['recipient'].value_counts()"
      ],
      "metadata": {
        "colab": {
          "base_uri": "https://localhost:8080/",
          "height": 490
        },
        "id": "9QPBIC7Zqp--",
        "outputId": "3167aa75-1a47-49d5-89ee-5680e3b5e9bd"
      },
      "execution_count": null,
      "outputs": [
        {
          "output_type": "execute_result",
          "data": {
            "text/plain": [
              "recipient\n",
              "56-0008969          400\n",
              "31-0001910          395\n",
              "76-0008913          383\n",
              "71-0003845          382\n",
              "37-0005432          382\n",
              "                   ... \n",
              "4445726637079679      1\n",
              "4410920538166567      1\n",
              "4786404865288845      1\n",
              "4600544145667419      1\n",
              "4195304751050546      1\n",
              "Name: count, Length: 16731, dtype: int64"
            ],
            "text/html": [
              "<div>\n",
              "<style scoped>\n",
              "    .dataframe tbody tr th:only-of-type {\n",
              "        vertical-align: middle;\n",
              "    }\n",
              "\n",
              "    .dataframe tbody tr th {\n",
              "        vertical-align: top;\n",
              "    }\n",
              "\n",
              "    .dataframe thead th {\n",
              "        text-align: right;\n",
              "    }\n",
              "</style>\n",
              "<table border=\"1\" class=\"dataframe\">\n",
              "  <thead>\n",
              "    <tr style=\"text-align: right;\">\n",
              "      <th></th>\n",
              "      <th>count</th>\n",
              "    </tr>\n",
              "    <tr>\n",
              "      <th>recipient</th>\n",
              "      <th></th>\n",
              "    </tr>\n",
              "  </thead>\n",
              "  <tbody>\n",
              "    <tr>\n",
              "      <th>56-0008969</th>\n",
              "      <td>400</td>\n",
              "    </tr>\n",
              "    <tr>\n",
              "      <th>31-0001910</th>\n",
              "      <td>395</td>\n",
              "    </tr>\n",
              "    <tr>\n",
              "      <th>76-0008913</th>\n",
              "      <td>383</td>\n",
              "    </tr>\n",
              "    <tr>\n",
              "      <th>71-0003845</th>\n",
              "      <td>382</td>\n",
              "    </tr>\n",
              "    <tr>\n",
              "      <th>37-0005432</th>\n",
              "      <td>382</td>\n",
              "    </tr>\n",
              "    <tr>\n",
              "      <th>...</th>\n",
              "      <td>...</td>\n",
              "    </tr>\n",
              "    <tr>\n",
              "      <th>4445726637079679</th>\n",
              "      <td>1</td>\n",
              "    </tr>\n",
              "    <tr>\n",
              "      <th>4410920538166567</th>\n",
              "      <td>1</td>\n",
              "    </tr>\n",
              "    <tr>\n",
              "      <th>4786404865288845</th>\n",
              "      <td>1</td>\n",
              "    </tr>\n",
              "    <tr>\n",
              "      <th>4600544145667419</th>\n",
              "      <td>1</td>\n",
              "    </tr>\n",
              "    <tr>\n",
              "      <th>4195304751050546</th>\n",
              "      <td>1</td>\n",
              "    </tr>\n",
              "  </tbody>\n",
              "</table>\n",
              "<p>16731 rows × 1 columns</p>\n",
              "</div><br><label><b>dtype:</b> int64</label>"
            ]
          },
          "metadata": {},
          "execution_count": 31
        }
      ]
    },
    {
      "cell_type": "markdown",
      "source": [
        "## Data Feature Statistics"
      ],
      "metadata": {
        "id": "X_uvYBaJq2aY"
      }
    },
    {
      "cell_type": "code",
      "source": [
        "import seaborn as sns\n",
        "import matplotlib.pyplot as plt\n",
        "from sklearn.feature_selection import SelectKBest, chi2, f_classif"
      ],
      "metadata": {
        "id": "LPQ1Z0Hhq8IO"
      },
      "execution_count": null,
      "outputs": []
    },
    {
      "cell_type": "markdown",
      "source": [
        "### Feature analysis by initiator"
      ],
      "metadata": {
        "id": "oT3CFV1muLxq"
      }
    },
    {
      "cell_type": "code",
      "source": [
        "list_initiator = df['initiator'].unique().tolist()\n",
        "\n",
        "def getByInitiator(initiator):\n",
        "    return df[df['initiator'] == initiator].drop('initiator', axis=1)"
      ],
      "metadata": {
        "id": "QmEq74g_rHkz"
      },
      "execution_count": null,
      "outputs": []
    },
    {
      "cell_type": "code",
      "source": [
        "df_1 = getByInitiator(list_initiator[0])\n",
        "df_1 = df_1.drop(['transactionType', 'recipient'], axis=1)\n",
        "corr = df_1.corr()"
      ],
      "metadata": {
        "id": "abCbEgNYrKTR"
      },
      "execution_count": null,
      "outputs": []
    },
    {
      "cell_type": "code",
      "source": [
        "# feature selection\n",
        "\n",
        "from sklearn.preprocessing import MinMaxScaler\n",
        "scaller = MinMaxScaler()\n",
        "\n",
        "X = df_1.drop('isFraud', axis=1)\n",
        "y = df_1['isFraud']\n",
        "\n",
        "scaller.fit(X)\n",
        "\n",
        "scaled_x = scaller.transform(X)\n",
        "\n",
        "selector = SelectKBest(score_func=chi2, k=5)\n",
        "X_new = selector.fit_transform(scaled_x, y)\n",
        "\n",
        "X.columns[selector.get_support()]"
      ],
      "metadata": {
        "colab": {
          "base_uri": "https://localhost:8080/"
        },
        "id": "rOZZigAPrNm-",
        "outputId": "dd62d9d2-5ab9-4112-afdd-68b6a6a0b434"
      },
      "execution_count": null,
      "outputs": [
        {
          "output_type": "execute_result",
          "data": {
            "text/plain": [
              "Index(['step', 'amount', 'oldBalInitiator', 'newBalInitiator',\n",
              "       'newBalRecipient'],\n",
              "      dtype='object')"
            ]
          },
          "metadata": {},
          "execution_count": 35
        }
      ]
    },
    {
      "cell_type": "code",
      "source": [
        "sns.heatmap(corr, annot=True)\n",
        "\n",
        "# isFraud is strongly related to amount | oldBalInitiator | newBalInitiator |"
      ],
      "metadata": {
        "colab": {
          "base_uri": "https://localhost:8080/",
          "height": 554
        },
        "id": "kUQ5mOgdrQX3",
        "outputId": "e2f638be-dfea-4378-e7b3-43a43cc626e7"
      },
      "execution_count": null,
      "outputs": [
        {
          "output_type": "execute_result",
          "data": {
            "text/plain": [
              "<Axes: >"
            ]
          },
          "metadata": {},
          "execution_count": 36
        },
        {
          "output_type": "display_data",
          "data": {
            "text/plain": [
              "<Figure size 640x480 with 2 Axes>"
            ],
            "image/png": "[encoded data removed]"
          },
          "metadata": {}
        }
      ]
    },
    {
      "cell_type": "markdown",
      "source": [
        "### Feature Analysis of all data"
      ],
      "metadata": {
        "id": "cOa-7pJfuRuA"
      }
    },
    {
      "cell_type": "code",
      "source": [
        "# feature selection\n",
        "\n",
        "from sklearn.preprocessing import MinMaxScaler\n",
        "scaller = MinMaxScaler()\n",
        "\n",
        "X = df.drop(['transactionType', 'initiator', 'recipient', 'isFraud'], axis=1)\n",
        "y = df['isFraud']\n",
        "\n",
        "scaller.fit(X)\n",
        "\n",
        "X_std = scaller.transform(X)\n",
        "\n",
        "selector = SelectKBest(score_func=chi2, k=5)\n",
        "X_new = selector.fit_transform(X_std, y)"
      ],
      "metadata": {
        "id": "KTXsLhLzr4Bj"
      },
      "execution_count": null,
      "outputs": []
    },
    {
      "cell_type": "code",
      "source": [
        "selector.get_support()"
      ],
      "metadata": {
        "colab": {
          "base_uri": "https://localhost:8080/"
        },
        "id": "1obxq-pLr7TQ",
        "outputId": "8cecbadf-a09e-4686-f5a1-524eb7dc1ad2"
      },
      "execution_count": null,
      "outputs": [
        {
          "output_type": "execute_result",
          "data": {
            "text/plain": [
              "array([ True,  True,  True,  True,  True, False])"
            ]
          },
          "metadata": {},
          "execution_count": 38
        }
      ]
    },
    {
      "cell_type": "code",
      "source": [
        "X.columns[selector.get_support()]"
      ],
      "metadata": {
        "colab": {
          "base_uri": "https://localhost:8080/"
        },
        "id": "MIjymLUfsFll",
        "outputId": "4e7934d2-53f9-47f8-dd69-43a1c54e58de"
      },
      "execution_count": null,
      "outputs": [
        {
          "output_type": "execute_result",
          "data": {
            "text/plain": [
              "Index(['step', 'amount', 'oldBalInitiator', 'newBalInitiator',\n",
              "       'oldBalRecipient'],\n",
              "      dtype='object')"
            ]
          },
          "metadata": {},
          "execution_count": 39
        }
      ]
    },
    {
      "cell_type": "code",
      "source": [
        "df[['step', 'amount', 'newBalInitiator', 'oldBalRecipient']].corr()"
      ],
      "metadata": {
        "colab": {
          "base_uri": "https://localhost:8080/",
          "height": 175
        },
        "id": "3dzm9z3UsJrf",
        "outputId": "9768a656-a16b-45e8-e0fa-9df3ab604864"
      },
      "execution_count": null,
      "outputs": [
        {
          "output_type": "execute_result",
          "data": {
            "text/plain": [
              "                     step    amount  newBalInitiator  oldBalRecipient\n",
              "step             1.000000 -0.135595         0.092421         0.135904\n",
              "amount          -0.135595  1.000000         0.063745         0.333787\n",
              "newBalInitiator  0.092421  0.063745         1.000000         0.091023\n",
              "oldBalRecipient  0.135904  0.333787         0.091023         1.000000"
            ],
            "text/html": [
              "\n",
              "  <div id=\"df-a501b1ae-2929-42ce-9cd5-ff698fc8e45f\" class=\"colab-df-container\">\n",
              "    <div>\n",
              "<style scoped>\n",
              "    .dataframe tbody tr th:only-of-type {\n",
              "        vertical-align: middle;\n",
              "    }\n",
              "\n",
              "    .dataframe tbody tr th {\n",
              "        vertical-align: top;\n",
              "    }\n",
              "\n",
              "    .dataframe thead th {\n",
              "        text-align: right;\n",
              "    }\n",
              "</style>\n",
              "<table border=\"1\" class=\"dataframe\">\n",
              "  <thead>\n",
              "    <tr style=\"text-align: right;\">\n",
              "      <th></th>\n",
              "      <th>step</th>\n",
              "      <th>amount</th>\n",
              "      <th>newBalInitiator</th>\n",
              "      <th>oldBalRecipient</th>\n",
              "    </tr>\n",
              "  </thead>\n",
              "  <tbody>\n",
              "    <tr>\n",
              "      <th>step</th>\n",
              "      <td>1.000000</td>\n",
              "      <td>-0.135595</td>\n",
              "      <td>0.092421</td>\n",
              "      <td>0.135904</td>\n",
              "    </tr>\n",
              "    <tr>\n",
              "      <th>amount</th>\n",
              "      <td>-0.135595</td>\n",
              "      <td>1.000000</td>\n",
              "      <td>0.063745</td>\n",
              "      <td>0.333787</td>\n",
              "    </tr>\n",
              "    <tr>\n",
              "      <th>newBalInitiator</th>\n",
              "      <td>0.092421</td>\n",
              "      <td>0.063745</td>\n",
              "      <td>1.000000</td>\n",
              "      <td>0.091023</td>\n",
              "    </tr>\n",
              "    <tr>\n",
              "      <th>oldBalRecipient</th>\n",
              "      <td>0.135904</td>\n",
              "      <td>0.333787</td>\n",
              "      <td>0.091023</td>\n",
              "      <td>1.000000</td>\n",
              "    </tr>\n",
              "  </tbody>\n",
              "</table>\n",
              "</div>\n",
              "    <div class=\"colab-df-buttons\">\n",
              "\n",
              "  <div class=\"colab-df-container\">\n",
              "    <button class=\"colab-df-convert\" onclick=\"convertToInteractive('df-a501b1ae-2929-42ce-9cd5-ff698fc8e45f')\"\n",
              "            title=\"Convert this dataframe to an interactive table.\"\n",
              "            style=\"display:none;\">\n",
              "\n",
              "  <svg xmlns=\"http://www.w3.org/2000/svg\" height=\"24px\" viewBox=\"0 -960 960 960\">\n",
              "    <path d=\"M120-120v-720h720v720H120Zm60-500h600v-160H180v160Zm220 220h160v-160H400v160Zm0 220h160v-160H400v160ZM180-400h160v-160H180v160Zm440 0h160v-160H620v160ZM180-180h160v-160H180v160Zm440 0h160v-160H620v160Z\"/>\n",
              "  </svg>\n",
              "    </button>\n",
              "\n",
              "  <style>\n",
              "    .colab-df-container {\n",
              "      display:flex;\n",
              "      gap: 12px;\n",
              "    }\n",
              "\n",
              "    .colab-df-convert {\n",
              "      background-color: #E8F0FE;\n",
              "      border: none;\n",
              "      border-radius: 50%;\n",
              "      cursor: pointer;\n",
              "      display: none;\n",
              "      fill: #1967D2;\n",
              "      height: 32px;\n",
              "      padding: 0 0 0 0;\n",
              "      width: 32px;\n",
              "    }\n",
              "\n",
              "    .colab-df-convert:hover {\n",
              "      background-color: #E2EBFA;\n",
              "      box-shadow: 0px 1px 2px rgba(60, 64, 67, 0.3), 0px 1px 3px 1px rgba(60, 64, 67, 0.15);\n",
              "      fill: #174EA6;\n",
              "    }\n",
              "\n",
              "    .colab-df-buttons div {\n",
              "      margin-bottom: 4px;\n",
              "    }\n",
              "\n",
              "    [theme=dark] .colab-df-convert {\n",
              "      background-color: #3B4455;\n",
              "      fill: #D2E3FC;\n",
              "    }\n",
              "\n",
              "    [theme=dark] .colab-df-convert:hover {\n",
              "      background-color: #434B5C;\n",
              "      box-shadow: 0px 1px 3px 1px rgba(0, 0, 0, 0.15);\n",
              "      filter: drop-shadow(0px 1px 2px rgba(0, 0, 0, 0.3));\n",
              "      fill: #FFFFFF;\n",
              "    }\n",
              "  </style>\n",
              "\n",
              "    <script>\n",
              "      const buttonEl =\n",
              "        document.querySelector('#df-a501b1ae-2929-42ce-9cd5-ff698fc8e45f button.colab-df-convert');\n",
              "      buttonEl.style.display =\n",
              "        google.colab.kernel.accessAllowed ? 'block' : 'none';\n",
              "\n",
              "      async function convertToInteractive(key) {\n",
              "        const element = document.querySelector('#df-a501b1ae-2929-42ce-9cd5-ff698fc8e45f');\n",
              "        const dataTable =\n",
              "          await google.colab.kernel.invokeFunction('convertToInteractive',\n",
              "                                                    [key], {});\n",
              "        if (!dataTable) return;\n",
              "\n",
              "        const docLinkHtml = 'Like what you see? Visit the ' +\n",
              "          '<a target=\"_blank\" href=https://colab.research.google.com/notebooks/data_table.ipynb>data table notebook</a>'\n",
              "          + ' to learn more about interactive tables.';\n",
              "        element.innerHTML = '';\n",
              "        dataTable['output_type'] = 'display_data';\n",
              "        await google.colab.output.renderOutput(dataTable, element);\n",
              "        const docLink = document.createElement('div');\n",
              "        docLink.innerHTML = docLinkHtml;\n",
              "        element.appendChild(docLink);\n",
              "      }\n",
              "    </script>\n",
              "  </div>\n",
              "\n",
              "\n",
              "    <div id=\"df-d487b5e2-7b0a-44aa-95f9-380794b00de4\">\n",
              "      <button class=\"colab-df-quickchart\" onclick=\"quickchart('df-d487b5e2-7b0a-44aa-95f9-380794b00de4')\"\n",
              "                title=\"Suggest charts\"\n",
              "                style=\"display:none;\">\n",
              "\n",
              "<svg xmlns=\"http://www.w3.org/2000/svg\" height=\"24px\"viewBox=\"0 0 24 24\"\n",
              "     width=\"24px\">\n",
              "    <g>\n",
              "        <path d=\"M19 3H5c-1.1 0-2 .9-2 2v14c0 1.1.9 2 2 2h14c1.1 0 2-.9 2-2V5c0-1.1-.9-2-2-2zM9 17H7v-7h2v7zm4 0h-2V7h2v10zm4 0h-2v-4h2v4z\"/>\n",
              "    </g>\n",
              "</svg>\n",
              "      </button>\n",
              "\n",
              "<style>\n",
              "  .colab-df-quickchart {\n",
              "      --bg-color: #E8F0FE;\n",
              "      --fill-color: #1967D2;\n",
              "      --hover-bg-color: #E2EBFA;\n",
              "      --hover-fill-color: #174EA6;\n",
              "      --disabled-fill-color: #AAA;\n",
              "      --disabled-bg-color: #DDD;\n",
              "  }\n",
              "\n",
              "  [theme=dark] .colab-df-quickchart {\n",
              "      --bg-color: #3B4455;\n",
              "      --fill-color: #D2E3FC;\n",
              "      --hover-bg-color: #434B5C;\n",
              "      --hover-fill-color: #FFFFFF;\n",
              "      --disabled-bg-color: #3B4455;\n",
              "      --disabled-fill-color: #666;\n",
              "  }\n",
              "\n",
              "  .colab-df-quickchart {\n",
              "    background-color: var(--bg-color);\n",
              "    border: none;\n",
              "    border-radius: 50%;\n",
              "    cursor: pointer;\n",
              "    display: none;\n",
              "    fill: var(--fill-color);\n",
              "    height: 32px;\n",
              "    padding: 0;\n",
              "    width: 32px;\n",
              "  }\n",
              "\n",
              "  .colab-df-quickchart:hover {\n",
              "    background-color: var(--hover-bg-color);\n",
              "    box-shadow: 0 1px 2px rgba(60, 64, 67, 0.3), 0 1px 3px 1px rgba(60, 64, 67, 0.15);\n",
              "    fill: var(--button-hover-fill-color);\n",
              "  }\n",
              "\n",
              "  .colab-df-quickchart-complete:disabled,\n",
              "  .colab-df-quickchart-complete:disabled:hover {\n",
              "    background-color: var(--disabled-bg-color);\n",
              "    fill: var(--disabled-fill-color);\n",
              "    box-shadow: none;\n",
              "  }\n",
              "\n",
              "  .colab-df-spinner {\n",
              "    border: 2px solid var(--fill-color);\n",
              "    border-color: transparent;\n",
              "    border-bottom-color: var(--fill-color);\n",
              "    animation:\n",
              "      spin 1s steps(1) infinite;\n",
              "  }\n",
              "\n",
              "  @keyframes spin {\n",
              "    0% {\n",
              "      border-color: transparent;\n",
              "      border-bottom-color: var(--fill-color);\n",
              "      border-left-color: var(--fill-color);\n",
              "    }\n",
              "    20% {\n",
              "      border-color: transparent;\n",
              "      border-left-color: var(--fill-color);\n",
              "      border-top-color: var(--fill-color);\n",
              "    }\n",
              "    30% {\n",
              "      border-color: transparent;\n",
              "      border-left-color: var(--fill-color);\n",
              "      border-top-color: var(--fill-color);\n",
              "      border-right-color: var(--fill-color);\n",
              "    }\n",
              "    40% {\n",
              "      border-color: transparent;\n",
              "      border-right-color: var(--fill-color);\n",
              "      border-top-color: var(--fill-color);\n",
              "    }\n",
              "    60% {\n",
              "      border-color: transparent;\n",
              "      border-right-color: var(--fill-color);\n",
              "    }\n",
              "    80% {\n",
              "      border-color: transparent;\n",
              "      border-right-color: var(--fill-color);\n",
              "      border-bottom-color: var(--fill-color);\n",
              "    }\n",
              "    90% {\n",
              "      border-color: transparent;\n",
              "      border-bottom-color: var(--fill-color);\n",
              "    }\n",
              "  }\n",
              "</style>\n",
              "\n",
              "      <script>\n",
              "        async function quickchart(key) {\n",
              "          const quickchartButtonEl =\n",
              "            document.querySelector('#' + key + ' button');\n",
              "          quickchartButtonEl.disabled = true;  // To prevent multiple clicks.\n",
              "          quickchartButtonEl.classList.add('colab-df-spinner');\n",
              "          try {\n",
              "            const charts = await google.colab.kernel.invokeFunction(\n",
              "                'suggestCharts', [key], {});\n",
              "          } catch (error) {\n",
              "            console.error('Error during call to suggestCharts:', error);\n",
              "          }\n",
              "          quickchartButtonEl.classList.remove('colab-df-spinner');\n",
              "          quickchartButtonEl.classList.add('colab-df-quickchart-complete');\n",
              "        }\n",
              "        (() => {\n",
              "          let quickchartButtonEl =\n",
              "            document.querySelector('#df-d487b5e2-7b0a-44aa-95f9-380794b00de4 button');\n",
              "          quickchartButtonEl.style.display =\n",
              "            google.colab.kernel.accessAllowed ? 'block' : 'none';\n",
              "        })();\n",
              "      </script>\n",
              "    </div>\n",
              "\n",
              "    </div>\n",
              "  </div>\n"
            ],
            "application/vnd.google.colaboratory.intrinsic+json": {
              "type": "dataframe",
              "summary": "{\n  \"name\": \"df[['step', 'amount', 'newBalInitiator', 'oldBalRecipient']]\",\n  \"rows\": 4,\n  \"fields\": [\n    {\n      \"column\": \"step\",\n      \"properties\": {\n        \"dtype\": \"number\",\n        \"std\": 0.49895980756087666,\n        \"min\": -0.13559476285667402,\n        \"max\": 1.0,\n        \"num_unique_values\": 4,\n        \"samples\": [\n          -0.13559476285667402,\n          0.1359041731270804,\n          1.0\n        ],\n        \"semantic_type\": \"\",\n        \"description\": \"\"\n      }\n    },\n    {\n      \"column\": \"amount\",\n      \"properties\": {\n        \"dtype\": \"number\",\n        \"std\": 0.4952244801692714,\n        \"min\": -0.13559476285667402,\n        \"max\": 1.0,\n        \"num_unique_values\": 4,\n        \"samples\": [\n          1.0,\n          0.33378746261880177,\n          -0.13559476285667402\n        ],\n        \"semantic_type\": \"\",\n        \"description\": \"\"\n      }\n    },\n    {\n      \"column\": \"newBalInitiator\",\n      \"properties\": {\n        \"dtype\": \"number\",\n        \"std\": 0.4589917058702135,\n        \"min\": 0.0637447778331404,\n        \"max\": 1.0,\n        \"num_unique_values\": 4,\n        \"samples\": [\n          0.0637447778331404,\n          0.0910234586499309,\n          0.09242077639763586\n        ],\n        \"semantic_type\": \"\",\n        \"description\": \"\"\n      }\n    },\n    {\n      \"column\": \"oldBalRecipient\",\n      \"properties\": {\n        \"dtype\": \"number\",\n        \"std\": 0.42000451705139086,\n        \"min\": 0.0910234586499309,\n        \"max\": 1.0,\n        \"num_unique_values\": 4,\n        \"samples\": [\n          0.33378746261880177,\n          1.0,\n          0.1359041731270804\n        ],\n        \"semantic_type\": \"\",\n        \"description\": \"\"\n      }\n    }\n  ]\n}"
            }
          },
          "metadata": {},
          "execution_count": 40
        }
      ]
    },
    {
      "cell_type": "markdown",
      "source": [
        "## Create and Training Model"
      ],
      "metadata": {
        "id": "OZQOnDw2unYJ"
      }
    },
    {
      "cell_type": "markdown",
      "source": [
        "### Training specific initiator data"
      ],
      "metadata": {
        "id": "TyHPxM0gu_Aj"
      }
    },
    {
      "cell_type": "code",
      "source": [
        "from sklearn.ensemble import IsolationForest\n",
        "from sklearn.metrics import accuracy_score, classification_report\n",
        "from sklearn.preprocessing import StandardScaler\n",
        "\n",
        "outLier = 13 / 111\n",
        "\n",
        "X = df_1[['step', 'amount', 'newBalInitiator', 'oldBalRecipient']]\n",
        "Y = df_1['isFraud']\n",
        "\n",
        "stdScale_by_initiator = StandardScaler()\n",
        "stdScale_by_initiator.fit(X)\n",
        "X_scaled = stdScale_by_initiator.transform(X)\n",
        "\n",
        "model_by_initiator = IsolationForest(n_estimators = 100, contamination = outLier, random_state=42)\n",
        "model_by_initiator.fit(X_scaled, Y)\n",
        "\n",
        "y_pred = model_by_initiator.predict(X_scaled)\n",
        "y_pred[y_pred == 1] = 0\n",
        "y_pred[y_pred == -1] = 1\n",
        "\n",
        "print(classification_report(Y, y_pred))\n",
        "print(\"Accuracy in finding anomaly:\",accuracy_score(Y,y_pred))"
      ],
      "metadata": {
        "colab": {
          "base_uri": "https://localhost:8080/"
        },
        "id": "64QuDCDMvCmW",
        "outputId": "e2179e46-8533-41b7-cd52-120012d14cca"
      },
      "execution_count": null,
      "outputs": [
        {
          "output_type": "stream",
          "name": "stdout",
          "text": [
            "              precision    recall  f1-score   support\n",
            "\n",
            "           0       0.97      0.95      0.96       111\n",
            "           1       0.67      0.77      0.71        13\n",
            "\n",
            "    accuracy                           0.94       124\n",
            "   macro avg       0.82      0.86      0.84       124\n",
            "weighted avg       0.94      0.94      0.94       124\n",
            "\n",
            "Accuracy in finding anomaly: 0.9354838709677419\n"
          ]
        }
      ]
    },
    {
      "cell_type": "markdown",
      "source": [
        "### Training overall data"
      ],
      "metadata": {
        "id": "oN5KCS_CvUag"
      }
    },
    {
      "cell_type": "code",
      "source": [
        "from sklearn.ensemble import IsolationForest\n",
        "from sklearn.metrics import accuracy_score, classification_report\n",
        "from sklearn.preprocessing import StandardScaler\n",
        "\n",
        "X = df[['step', 'amount', 'newBalInitiator', 'oldBalRecipient']]\n",
        "Y = df['isFraud']\n",
        "\n",
        "stdScale = StandardScaler()\n",
        "stdScale.fit(X)\n",
        "X_scaled = stdScale.transform(X)\n",
        "\n",
        "model = IsolationForest(n_estimators = 100, random_state=42)\n",
        "model.fit(X_scaled, Y)\n",
        "\n",
        "y_pred = model.predict(X_scaled)\n",
        "y_pred[y_pred == 1] = 0\n",
        "y_pred[y_pred == -1] = 1\n",
        "\n",
        "print(classification_report(Y, y_pred))\n",
        "print(\"Accuracy in finding anomaly:\",accuracy_score(Y,y_pred))"
      ],
      "metadata": {
        "colab": {
          "base_uri": "https://localhost:8080/"
        },
        "id": "09CGseCrvNRx",
        "outputId": "39ba4c03-5fcc-4d0c-fa2a-29ab66152b68"
      },
      "execution_count": null,
      "outputs": [
        {
          "output_type": "stream",
          "name": "stdout",
          "text": [
            "              precision    recall  f1-score   support\n",
            "\n",
            "           0       0.89      0.85      0.87   1544663\n",
            "           1       0.07      0.11      0.09    175518\n",
            "\n",
            "    accuracy                           0.78   1720181\n",
            "   macro avg       0.48      0.48      0.48   1720181\n",
            "weighted avg       0.81      0.78      0.79   1720181\n",
            "\n",
            "Accuracy in finding anomaly: 0.7750614615554992\n"
          ]
        }
      ]
    },
    {
      "cell_type": "markdown",
      "source": [
        "# Create model pipeline"
      ],
      "metadata": {
        "id": "HtarGt9yyWtx"
      }
    },
    {
      "cell_type": "code",
      "source": [
        "import numpy as np\n",
        "from sklearn.base import BaseEstimator, ClassifierMixin\n",
        "from sklearn.pipeline import Pipeline\n",
        "from sklearn.preprocessing import StandardScaler\n",
        "from sklearn.ensemble import IsolationForest\n",
        "from sklearn.metrics import classification_report, accuracy_score\n",
        "\n",
        "outLier = 13 / 111\n",
        "X = df_1[['step', 'amount', 'newBalInitiator', 'oldBalRecipient']]\n",
        "Y = df_1['isFraud']\n",
        "\n",
        "pipeline = Pipeline([\n",
        "    (\"scaler\", StandardScaler()),\n",
        "    (\"clf\", IsolationForest(n_estimators = 100, contamination = outLier, random_state=42))\n",
        "])"
      ],
      "metadata": {
        "id": "nG7xde2byZx6"
      },
      "execution_count": 63,
      "outputs": []
    },
    {
      "cell_type": "code",
      "source": [
        "pipeline.fit(X, Y)\n",
        "\n",
        "y_pred = pipeline.predict(X)"
      ],
      "metadata": {
        "id": "UujqGWRK3hWB"
      },
      "execution_count": 65,
      "outputs": []
    },
    {
      "cell_type": "code",
      "source": [
        "import joblib\n",
        "\n",
        "joblib.dump(pipeline, f\"isolation_forest.pkl\")"
      ],
      "metadata": {
        "colab": {
          "base_uri": "https://localhost:8080/"
        },
        "id": "IMzFb4Ap3iDa",
        "outputId": "57c9c7bb-815d-4d35-b75d-17ea887479b7"
      },
      "execution_count": 66,
      "outputs": [
        {
          "output_type": "execute_result",
          "data": {
            "text/plain": [
              "['isolation_forest.pkl']"
            ]
          },
          "metadata": {},
          "execution_count": 66
        }
      ]
    },
    {
      "cell_type": "code",
      "source": [
        "model = joblib.load(\"isolation_forest.pkl\")\n",
        "\n",
        "X_new = pd.DataFrame(\n",
        "        [[1, 10, 12.0, 12.3]],\n",
        "        columns=[\"step\", \"amount\", \"newBalInitiator\", \"oldBalRecipient\"]\n",
        "    )\n",
        "\n",
        "prediction = model.predict(X_new)[0]\n",
        "label = \"Fraud\" if prediction == -1 else \"Not Fraud\""
      ],
      "metadata": {
        "id": "WHt1ZP0CCsGA"
      },
      "execution_count": 73,
      "outputs": []
    },
    {
      "cell_type": "code",
      "source": [
        "prediction, label"
      ],
      "metadata": {
        "colab": {
          "base_uri": "https://localhost:8080/"
        },
        "id": "31nk9bt0D5s3",
        "outputId": "dc5a6449-2846-441f-f77b-74edbfa99927"
      },
      "execution_count": 74,
      "outputs": [
        {
          "output_type": "execute_result",
          "data": {
            "text/plain": [
              "(np.int64(1), 'Not Fraud')"
            ]
          },
          "metadata": {},
          "execution_count": 74
        }
      ]
    }
  ]
}