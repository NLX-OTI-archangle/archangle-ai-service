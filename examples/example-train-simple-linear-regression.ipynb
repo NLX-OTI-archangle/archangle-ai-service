{
 "cells": [
  {
   "cell_type": "code",
   "execution_count": null,
   "id": "26736f1a",
   "metadata": {},
   "outputs": [
    {
     "name": "stdout",
     "output_type": "stream",
     "text": [
      "Prediction for [[6]]: [12.11]\n"
     ]
    },
    {
     "data": {
      "text/plain": [
       "['/home/ach/ach-codespace/hackaton-ojk/archangle-ai-service/examples/linear_regression_model.pkl']"
      ]
     },
     "execution_count": 7,
     "metadata": {},
     "output_type": "execute_result"
    }
   ],
   "source": [
    "import numpy as np\n",
    "import joblib\n",
    "from sklearn.linear_model import LinearRegression\n",
    "from sklearn.preprocessing import StandardScaler\n",
    "from sklearn.pipeline import Pipeline\n",
    "\n",
    "import os\n",
    "ROOT_DIR = os.path.abspath(os.curdir)\n",
    "\n",
    "X = np.array([[1], [2], [3], [4], [5]])\n",
    "y = np.array([2.2, 4.1, 6.1, 8.2, 10.1])\n",
    "\n",
    "pipeline = Pipeline([\n",
    "    (\"scaler\", StandardScaler()),\n",
    "    (\"regressor\", LinearRegression())\n",
    "])\n",
    "\n",
    "pipeline.fit(X, y)\n",
    "\n",
    "print(\"Prediction for [[6]]:\", pipeline.predict([[6]]))\n",
    "\n",
    "joblib.dump(pipeline, f\"linear_regression_model.pkl\")"
   ]
  },
  {
   "cell_type": "code",
   "execution_count": null,
   "id": "2f6a2f9d",
   "metadata": {},
   "outputs": [],
   "source": []
  }
 ],
 "metadata": {
  "kernelspec": {
   "display_name": ".venv",
   "language": "python",
   "name": "python3"
  },
  "language_info": {
   "codemirror_mode": {
    "name": "ipython",
    "version": 3
   },
   "file_extension": ".py",
   "mimetype": "text/x-python",
   "name": "python",
   "nbconvert_exporter": "python",
   "pygments_lexer": "ipython3",
   "version": "3.10.12"
  }
 },
 "nbformat": 4,
 "nbformat_minor": 5
}
